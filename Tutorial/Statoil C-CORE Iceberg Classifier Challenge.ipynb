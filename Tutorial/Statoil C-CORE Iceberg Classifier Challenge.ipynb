{
 "cells": [
  {
   "cell_type": "markdown",
   "metadata": {},
   "source": [
    "# Statoil_C-CORE Iceberg Classifier Challenge"
   ]
  },
  {
   "cell_type": "markdown",
   "metadata": {},
   "source": [
    "---"
   ]
  },
  {
   "cell_type": "markdown",
   "metadata": {},
   "source": [
    "## Import"
   ]
  },
  {
   "cell_type": "code",
   "execution_count": 1,
   "metadata": {},
   "outputs": [],
   "source": [
    "import numpy as np\n",
    "import pandas as pd\n",
    "from sklearn.model_selection import train_test_split\n",
    "from os.path import join\n",
    "from matplotlib import pyplot as plt\n",
    "plt.rcParams['figure.figsize'] = 10, 10\n",
    "%matplotlib inline"
   ]
  },
  {
   "cell_type": "markdown",
   "metadata": {},
   "source": [
    "## Dataset"
   ]
  },
  {
   "cell_type": "code",
   "execution_count": 2,
   "metadata": {},
   "outputs": [],
   "source": [
    "train = pd.read_json(\"../data/train.json\")\n",
    "test = pd.read_json(\"../data/test.json\")"
   ]
  },
  {
   "cell_type": "code",
   "execution_count": 3,
   "metadata": {},
   "outputs": [
    {
     "data": {
      "text/html": [
       "<div>\n",
       "<style scoped>\n",
       "    .dataframe tbody tr th:only-of-type {\n",
       "        vertical-align: middle;\n",
       "    }\n",
       "\n",
       "    .dataframe tbody tr th {\n",
       "        vertical-align: top;\n",
       "    }\n",
       "\n",
       "    .dataframe thead th {\n",
       "        text-align: right;\n",
       "    }\n",
       "</style>\n",
       "<table border=\"1\" class=\"dataframe\">\n",
       "  <thead>\n",
       "    <tr style=\"text-align: right;\">\n",
       "      <th></th>\n",
       "      <th>id</th>\n",
       "      <th>band_1</th>\n",
       "      <th>band_2</th>\n",
       "      <th>inc_angle</th>\n",
       "      <th>is_iceberg</th>\n",
       "    </tr>\n",
       "  </thead>\n",
       "  <tbody>\n",
       "    <tr>\n",
       "      <th>0</th>\n",
       "      <td>dfd5f913</td>\n",
       "      <td>[-27.878360999999998, -27.15416, -28.668615, -...</td>\n",
       "      <td>[-27.154118, -29.537888, -31.0306, -32.190483,...</td>\n",
       "      <td>43.9239</td>\n",
       "      <td>0</td>\n",
       "    </tr>\n",
       "    <tr>\n",
       "      <th>1</th>\n",
       "      <td>e25388fd</td>\n",
       "      <td>[-12.242375, -14.920304999999999, -14.920363, ...</td>\n",
       "      <td>[-31.506321, -27.984554, -26.645678, -23.76760...</td>\n",
       "      <td>38.1562</td>\n",
       "      <td>0</td>\n",
       "    </tr>\n",
       "    <tr>\n",
       "      <th>2</th>\n",
       "      <td>58b2aaa0</td>\n",
       "      <td>[-24.603676, -24.603714, -24.871029, -23.15277...</td>\n",
       "      <td>[-24.870956, -24.092632, -20.653963, -19.41104...</td>\n",
       "      <td>45.2859</td>\n",
       "      <td>1</td>\n",
       "    </tr>\n",
       "    <tr>\n",
       "      <th>3</th>\n",
       "      <td>4cfc3a18</td>\n",
       "      <td>[-22.454607, -23.082819, -23.998013, -23.99805...</td>\n",
       "      <td>[-27.889421, -27.519794, -27.165262, -29.10350...</td>\n",
       "      <td>43.8306</td>\n",
       "      <td>0</td>\n",
       "    </tr>\n",
       "    <tr>\n",
       "      <th>4</th>\n",
       "      <td>271f93f4</td>\n",
       "      <td>[-26.006956, -23.164886, -23.164886, -26.89116...</td>\n",
       "      <td>[-27.206915, -30.259186, -30.259186, -23.16495...</td>\n",
       "      <td>35.6256</td>\n",
       "      <td>0</td>\n",
       "    </tr>\n",
       "    <tr>\n",
       "      <th>...</th>\n",
       "      <td>...</td>\n",
       "      <td>...</td>\n",
       "      <td>...</td>\n",
       "      <td>...</td>\n",
       "      <td>...</td>\n",
       "    </tr>\n",
       "    <tr>\n",
       "      <th>1599</th>\n",
       "      <td>04e11240</td>\n",
       "      <td>[-30.999878, -29.976866, -28.233906, -29.50732...</td>\n",
       "      <td>[-27.847719, -28.233864, -24.712077999999998, ...</td>\n",
       "      <td>na</td>\n",
       "      <td>0</td>\n",
       "    </tr>\n",
       "    <tr>\n",
       "      <th>1600</th>\n",
       "      <td>c7d6f6f8</td>\n",
       "      <td>[-25.31155, -26.511555, -28.694487, -27.180115...</td>\n",
       "      <td>[-29.563713, -28.290375, -26.839405, -28.29046...</td>\n",
       "      <td>na</td>\n",
       "      <td>0</td>\n",
       "    </tr>\n",
       "    <tr>\n",
       "      <th>1601</th>\n",
       "      <td>bba1a0f1</td>\n",
       "      <td>[-18.141895, -18.141844, -19.01737, -19.701599...</td>\n",
       "      <td>[-25.305355, -29.387701, -28.963863, -26.16023...</td>\n",
       "      <td>na</td>\n",
       "      <td>0</td>\n",
       "    </tr>\n",
       "    <tr>\n",
       "      <th>1602</th>\n",
       "      <td>7f66bb44</td>\n",
       "      <td>[-22.455633, -25.794661, -26.954567, -22.83354...</td>\n",
       "      <td>[-26.070356, -22.093737, -21.577662, -24.53376...</td>\n",
       "      <td>na</td>\n",
       "      <td>0</td>\n",
       "    </tr>\n",
       "    <tr>\n",
       "      <th>1603</th>\n",
       "      <td>9d8f326c</td>\n",
       "      <td>[-19.909191, -20.678406, -20.208834, -18.42441...</td>\n",
       "      <td>[-24.44487, -24.956001, -27.722103, -26.078417...</td>\n",
       "      <td>na</td>\n",
       "      <td>0</td>\n",
       "    </tr>\n",
       "  </tbody>\n",
       "</table>\n",
       "<p>1604 rows × 5 columns</p>\n",
       "</div>"
      ],
      "text/plain": [
       "            id                                             band_1  \\\n",
       "0     dfd5f913  [-27.878360999999998, -27.15416, -28.668615, -...   \n",
       "1     e25388fd  [-12.242375, -14.920304999999999, -14.920363, ...   \n",
       "2     58b2aaa0  [-24.603676, -24.603714, -24.871029, -23.15277...   \n",
       "3     4cfc3a18  [-22.454607, -23.082819, -23.998013, -23.99805...   \n",
       "4     271f93f4  [-26.006956, -23.164886, -23.164886, -26.89116...   \n",
       "...        ...                                                ...   \n",
       "1599  04e11240  [-30.999878, -29.976866, -28.233906, -29.50732...   \n",
       "1600  c7d6f6f8  [-25.31155, -26.511555, -28.694487, -27.180115...   \n",
       "1601  bba1a0f1  [-18.141895, -18.141844, -19.01737, -19.701599...   \n",
       "1602  7f66bb44  [-22.455633, -25.794661, -26.954567, -22.83354...   \n",
       "1603  9d8f326c  [-19.909191, -20.678406, -20.208834, -18.42441...   \n",
       "\n",
       "                                                 band_2 inc_angle  is_iceberg  \n",
       "0     [-27.154118, -29.537888, -31.0306, -32.190483,...   43.9239           0  \n",
       "1     [-31.506321, -27.984554, -26.645678, -23.76760...   38.1562           0  \n",
       "2     [-24.870956, -24.092632, -20.653963, -19.41104...   45.2859           1  \n",
       "3     [-27.889421, -27.519794, -27.165262, -29.10350...   43.8306           0  \n",
       "4     [-27.206915, -30.259186, -30.259186, -23.16495...   35.6256           0  \n",
       "...                                                 ...       ...         ...  \n",
       "1599  [-27.847719, -28.233864, -24.712077999999998, ...        na           0  \n",
       "1600  [-29.563713, -28.290375, -26.839405, -28.29046...        na           0  \n",
       "1601  [-25.305355, -29.387701, -28.963863, -26.16023...        na           0  \n",
       "1602  [-26.070356, -22.093737, -21.577662, -24.53376...        na           0  \n",
       "1603  [-24.44487, -24.956001, -27.722103, -26.078417...        na           0  \n",
       "\n",
       "[1604 rows x 5 columns]"
      ]
     },
     "execution_count": 3,
     "metadata": {},
     "output_type": "execute_result"
    }
   ],
   "source": [
    "train"
   ]
  },
  {
   "cell_type": "code",
   "execution_count": 4,
   "metadata": {},
   "outputs": [],
   "source": [
    "# HH\n",
    "X_band_1 = np.array([np.array(band).astype(\n",
    "    np.float32).reshape(75, 75) for band in train[\"band_1\"]])\n",
    "X_band_1_test = np.array([np.array(band).astype(\n",
    "    np.float32).reshape(75, 75) for band in test[\"band_1\"]])\n",
    "\n",
    "# HV\n",
    "X_band_2 = np.array([np.array(band).astype(\n",
    "    np.float32).reshape(75, 75) for band in train[\"band_2\"]])\n",
    "X_band_2_test = np.array([np.array(band).astype(\n",
    "    np.float32).reshape(75, 75) for band in test[\"band_1\"]])"
   ]
  },
  {
   "cell_type": "code",
   "execution_count": 5,
   "metadata": {},
   "outputs": [
    {
     "data": {
      "text/plain": [
       "(1604, 75, 75)"
      ]
     },
     "execution_count": 5,
     "metadata": {},
     "output_type": "execute_result"
    }
   ],
   "source": [
    "X_band_1.shape"
   ]
  },
  {
   "cell_type": "code",
   "execution_count": 6,
   "metadata": {},
   "outputs": [],
   "source": [
    "# HH, HV, avg of (HH, HV)\n",
    "X_train = np.concatenate([X_band_1[:, :, :, np.newaxis], X_band_2[:, :, :, np.newaxis], ((\n",
    "    X_band_1+X_band_2)/2)[:, :, :, np.newaxis]], axis=-1)\n",
    "X_test = np.concatenate([X_band_1_test[:, :, :, np.newaxis], X_band_2_test[:, :, :, np.newaxis], ((\n",
    "    X_band_1_test+X_band_2_test)/2)[:, :, :, np.newaxis]], axis=-1)"
   ]
  },
  {
   "cell_type": "code",
   "execution_count": 7,
   "metadata": {},
   "outputs": [],
   "source": [
    "y_train = train[\"is_iceberg\"]"
   ]
  },
  {
   "cell_type": "code",
   "execution_count": 8,
   "metadata": {},
   "outputs": [
    {
     "data": {
      "text/plain": [
       "(1604, 75, 75, 3)"
      ]
     },
     "execution_count": 8,
     "metadata": {},
     "output_type": "execute_result"
    }
   ],
   "source": [
    "X_train.shape"
   ]
  },
  {
   "cell_type": "code",
   "execution_count": 9,
   "metadata": {},
   "outputs": [],
   "source": [
    "X_train, X_valid, y_train, y_valid = train_test_split(\n",
    "    X_train, y_train, random_state=2020, train_size=0.8)"
   ]
  },
  {
   "cell_type": "markdown",
   "metadata": {},
   "source": [
    "## Model"
   ]
  },
  {
   "cell_type": "code",
   "execution_count": 10,
   "metadata": {},
   "outputs": [],
   "source": [
    "from tensorflow.keras.models import Sequential\n",
    "from tensorflow.keras.layers import Conv2D, MaxPooling2D, Dense, GlobalAveragePooling2D, Activation\n",
    "from tensorflow.keras.optimizers import Adam\n",
    "from tensorflow.keras.layers import BatchNormalization"
   ]
  },
  {
   "cell_type": "code",
   "execution_count": 11,
   "metadata": {},
   "outputs": [],
   "source": [
    "model=Sequential()\n",
    "model.add(Conv2D(64, kernel_size=(3,3), activation='relu', input_shape=(75,75,3)))\n",
    "model.add(MaxPooling2D(pool_size=(2,2), strides=(2,2)))\n",
    "model.add(BatchNormalization())\n",
    "\n",
    "model.add(Conv2D(128, kernel_size=(3,3), activation='relu'))\n",
    "model.add(MaxPooling2D(pool_size=(2,2), strides=(2,2)))\n",
    "model.add(BatchNormalization())\n",
    "\n",
    "model.add(Conv2D(128, kernel_size=(3,3), activation='relu'))\n",
    "model.add(MaxPooling2D(pool_size=(2,2), strides=(2,2)))\n",
    "model.add(BatchNormalization())\n",
    "\n",
    "model.add(Conv2D(128, kernel_size=(3,3), activation='relu'))\n",
    "model.add(MaxPooling2D(pool_size=(2,2), strides=(2,2)))\n",
    "model.add(BatchNormalization())\n",
    "\n",
    "model.add(GlobalAveragePooling2D())\n",
    "\n",
    "model.add(Dense(512))\n",
    "model.add(Activation('relu'))\n",
    "model.add(BatchNormalization())\n",
    "\n",
    "model.add(Dense(256))\n",
    "model.add(Activation('relu'))\n",
    "model.add(BatchNormalization())\n",
    "\n",
    "model.add(Dense(1))\n",
    "model.add(Activation('sigmoid'))"
   ]
  },
  {
   "cell_type": "code",
   "execution_count": 12,
   "metadata": {},
   "outputs": [
    {
     "name": "stdout",
     "output_type": "stream",
     "text": [
      "Model: \"sequential\"\n",
      "_________________________________________________________________\n",
      "Layer (type)                 Output Shape              Param #   \n",
      "=================================================================\n",
      "conv2d (Conv2D)              (None, 73, 73, 64)        1792      \n",
      "_________________________________________________________________\n",
      "max_pooling2d (MaxPooling2D) (None, 36, 36, 64)        0         \n",
      "_________________________________________________________________\n",
      "batch_normalization (BatchNo (None, 36, 36, 64)        256       \n",
      "_________________________________________________________________\n",
      "conv2d_1 (Conv2D)            (None, 34, 34, 128)       73856     \n",
      "_________________________________________________________________\n",
      "max_pooling2d_1 (MaxPooling2 (None, 17, 17, 128)       0         \n",
      "_________________________________________________________________\n",
      "batch_normalization_1 (Batch (None, 17, 17, 128)       512       \n",
      "_________________________________________________________________\n",
      "conv2d_2 (Conv2D)            (None, 15, 15, 128)       147584    \n",
      "_________________________________________________________________\n",
      "max_pooling2d_2 (MaxPooling2 (None, 7, 7, 128)         0         \n",
      "_________________________________________________________________\n",
      "batch_normalization_2 (Batch (None, 7, 7, 128)         512       \n",
      "_________________________________________________________________\n",
      "conv2d_3 (Conv2D)            (None, 5, 5, 128)         147584    \n",
      "_________________________________________________________________\n",
      "max_pooling2d_3 (MaxPooling2 (None, 2, 2, 128)         0         \n",
      "_________________________________________________________________\n",
      "batch_normalization_3 (Batch (None, 2, 2, 128)         512       \n",
      "_________________________________________________________________\n",
      "global_average_pooling2d (Gl (None, 128)               0         \n",
      "_________________________________________________________________\n",
      "dense (Dense)                (None, 512)               66048     \n",
      "_________________________________________________________________\n",
      "activation (Activation)      (None, 512)               0         \n",
      "_________________________________________________________________\n",
      "batch_normalization_4 (Batch (None, 512)               2048      \n",
      "_________________________________________________________________\n",
      "dense_1 (Dense)              (None, 256)               131328    \n",
      "_________________________________________________________________\n",
      "activation_1 (Activation)    (None, 256)               0         \n",
      "_________________________________________________________________\n",
      "batch_normalization_5 (Batch (None, 256)               1024      \n",
      "_________________________________________________________________\n",
      "dense_2 (Dense)              (None, 1)                 257       \n",
      "_________________________________________________________________\n",
      "activation_2 (Activation)    (None, 1)                 0         \n",
      "=================================================================\n",
      "Total params: 573,313\n",
      "Trainable params: 570,881\n",
      "Non-trainable params: 2,432\n",
      "_________________________________________________________________\n"
     ]
    }
   ],
   "source": [
    "model.summary()"
   ]
  },
  {
   "cell_type": "code",
   "execution_count": 13,
   "metadata": {},
   "outputs": [],
   "source": [
    "model.compile(loss='binary_crossentropy',\n",
    "             optimizer=Adam(lr=0.001, beta_1=0.9, beta_2=0.999, epsilon=1e-8, decay=0.9),\n",
    "             metrics=['accuracy'])"
   ]
  },
  {
   "cell_type": "markdown",
   "metadata": {},
   "source": [
    "## Train"
   ]
  },
  {
   "cell_type": "code",
   "execution_count": 14,
   "metadata": {},
   "outputs": [
    {
     "name": "stdout",
     "output_type": "stream",
     "text": [
      "Epoch 1/50\n",
      "41/41 [==============================] - 43s 1s/step - loss: 0.5864 - accuracy: 0.7186 - val_loss: 1.1234 - val_accuracy: 0.5047\n",
      "Epoch 2/50\n",
      "41/41 [==============================] - 1s 14ms/step - loss: 0.4183 - accuracy: 0.7935 - val_loss: 0.7490 - val_accuracy: 0.5016\n",
      "Epoch 3/50\n",
      "41/41 [==============================] - 1s 14ms/step - loss: 0.3788 - accuracy: 0.8184 - val_loss: 0.6888 - val_accuracy: 0.5389\n",
      "Epoch 4/50\n",
      "41/41 [==============================] - 0s 12ms/step - loss: 0.3704 - accuracy: 0.8301 - val_loss: 0.7056 - val_accuracy: 0.5514\n",
      "Epoch 5/50\n",
      "41/41 [==============================] - 1s 13ms/step - loss: 0.3547 - accuracy: 0.8309 - val_loss: 0.7131 - val_accuracy: 0.5794\n",
      "Epoch 6/50\n",
      "41/41 [==============================] - 1s 13ms/step - loss: 0.3439 - accuracy: 0.8418 - val_loss: 0.6944 - val_accuracy: 0.5981\n",
      "Epoch 7/50\n",
      "41/41 [==============================] - 1s 12ms/step - loss: 0.3534 - accuracy: 0.8394 - val_loss: 0.6590 - val_accuracy: 0.6199\n",
      "Epoch 8/50\n",
      "41/41 [==============================] - 1s 12ms/step - loss: 0.3377 - accuracy: 0.8394 - val_loss: 0.6035 - val_accuracy: 0.6760\n",
      "Epoch 9/50\n",
      "41/41 [==============================] - 1s 13ms/step - loss: 0.3298 - accuracy: 0.8558 - val_loss: 0.5365 - val_accuracy: 0.7414\n",
      "Epoch 10/50\n",
      "41/41 [==============================] - 1s 13ms/step - loss: 0.3243 - accuracy: 0.8605 - val_loss: 0.4806 - val_accuracy: 0.7819\n",
      "Epoch 11/50\n",
      "41/41 [==============================] - 0s 12ms/step - loss: 0.3151 - accuracy: 0.8589 - val_loss: 0.4347 - val_accuracy: 0.8037\n",
      "Epoch 12/50\n",
      "41/41 [==============================] - 1s 13ms/step - loss: 0.3099 - accuracy: 0.8659 - val_loss: 0.4084 - val_accuracy: 0.8224\n",
      "Epoch 13/50\n",
      "41/41 [==============================] - 1s 13ms/step - loss: 0.3177 - accuracy: 0.8683 - val_loss: 0.3840 - val_accuracy: 0.8318\n",
      "Epoch 14/50\n",
      "41/41 [==============================] - 1s 13ms/step - loss: 0.3171 - accuracy: 0.8605 - val_loss: 0.3722 - val_accuracy: 0.8380\n",
      "Epoch 15/50\n",
      "41/41 [==============================] - 0s 11ms/step - loss: 0.3123 - accuracy: 0.8605 - val_loss: 0.3619 - val_accuracy: 0.8567\n",
      "Epoch 16/50\n",
      "41/41 [==============================] - 1s 13ms/step - loss: 0.3096 - accuracy: 0.8542 - val_loss: 0.3549 - val_accuracy: 0.8598\n",
      "Epoch 17/50\n",
      "41/41 [==============================] - 1s 13ms/step - loss: 0.3059 - accuracy: 0.8737 - val_loss: 0.3476 - val_accuracy: 0.8660\n",
      "Epoch 18/50\n",
      "41/41 [==============================] - 1s 13ms/step - loss: 0.3088 - accuracy: 0.8698 - val_loss: 0.3437 - val_accuracy: 0.8567\n",
      "Epoch 19/50\n",
      "41/41 [==============================] - 0s 12ms/step - loss: 0.3025 - accuracy: 0.8722 - val_loss: 0.3429 - val_accuracy: 0.8598\n",
      "Epoch 20/50\n",
      "41/41 [==============================] - 1s 14ms/step - loss: 0.3040 - accuracy: 0.8691 - val_loss: 0.3387 - val_accuracy: 0.8629\n",
      "Epoch 21/50\n",
      "41/41 [==============================] - 1s 13ms/step - loss: 0.3071 - accuracy: 0.8675 - val_loss: 0.3372 - val_accuracy: 0.8629\n",
      "Epoch 22/50\n",
      "41/41 [==============================] - 0s 12ms/step - loss: 0.3157 - accuracy: 0.8558 - val_loss: 0.3378 - val_accuracy: 0.8598\n",
      "Epoch 23/50\n",
      "41/41 [==============================] - 1s 13ms/step - loss: 0.3062 - accuracy: 0.8737 - val_loss: 0.3363 - val_accuracy: 0.8629\n",
      "Epoch 24/50\n",
      "41/41 [==============================] - 1s 13ms/step - loss: 0.2987 - accuracy: 0.8769 - val_loss: 0.3341 - val_accuracy: 0.8598\n",
      "Epoch 25/50\n",
      "41/41 [==============================] - 1s 13ms/step - loss: 0.2856 - accuracy: 0.8800 - val_loss: 0.3331 - val_accuracy: 0.8598\n",
      "Epoch 26/50\n",
      "41/41 [==============================] - 0s 11ms/step - loss: 0.2935 - accuracy: 0.8714 - val_loss: 0.3338 - val_accuracy: 0.8598\n",
      "Epoch 27/50\n",
      "41/41 [==============================] - 1s 13ms/step - loss: 0.3048 - accuracy: 0.8613 - val_loss: 0.3330 - val_accuracy: 0.8598\n",
      "Epoch 28/50\n",
      "41/41 [==============================] - 1s 13ms/step - loss: 0.2869 - accuracy: 0.8753 - val_loss: 0.3335 - val_accuracy: 0.8598\n",
      "Epoch 29/50\n",
      "41/41 [==============================] - 1s 13ms/step - loss: 0.2976 - accuracy: 0.8753 - val_loss: 0.3334 - val_accuracy: 0.8629\n",
      "Epoch 30/50\n",
      "41/41 [==============================] - 0s 11ms/step - loss: 0.3059 - accuracy: 0.8659 - val_loss: 0.3312 - val_accuracy: 0.8598\n",
      "Epoch 31/50\n",
      "41/41 [==============================] - 1s 13ms/step - loss: 0.2845 - accuracy: 0.8730 - val_loss: 0.3301 - val_accuracy: 0.8629\n",
      "Epoch 32/50\n",
      "41/41 [==============================] - 1s 13ms/step - loss: 0.2960 - accuracy: 0.8675 - val_loss: 0.3301 - val_accuracy: 0.8629\n",
      "Epoch 33/50\n",
      "41/41 [==============================] - 1s 13ms/step - loss: 0.2993 - accuracy: 0.8714 - val_loss: 0.3391 - val_accuracy: 0.8598\n",
      "Epoch 34/50\n",
      "41/41 [==============================] - 0s 12ms/step - loss: 0.2835 - accuracy: 0.8862 - val_loss: 0.3351 - val_accuracy: 0.8629\n",
      "Epoch 35/50\n",
      "41/41 [==============================] - 1s 13ms/step - loss: 0.2963 - accuracy: 0.8807 - val_loss: 0.3338 - val_accuracy: 0.8598\n",
      "Epoch 36/50\n",
      "41/41 [==============================] - 1s 13ms/step - loss: 0.2874 - accuracy: 0.8769 - val_loss: 0.3325 - val_accuracy: 0.8629\n",
      "Epoch 37/50\n",
      "41/41 [==============================] - 0s 12ms/step - loss: 0.2930 - accuracy: 0.8807 - val_loss: 0.3295 - val_accuracy: 0.8629\n",
      "Epoch 38/50\n",
      "41/41 [==============================] - 1s 13ms/step - loss: 0.2978 - accuracy: 0.8800 - val_loss: 0.3288 - val_accuracy: 0.8629\n",
      "Epoch 39/50\n",
      "41/41 [==============================] - 1s 13ms/step - loss: 0.2843 - accuracy: 0.8917 - val_loss: 0.3281 - val_accuracy: 0.8598\n",
      "Epoch 40/50\n",
      "41/41 [==============================] - 1s 13ms/step - loss: 0.2906 - accuracy: 0.8769 - val_loss: 0.3282 - val_accuracy: 0.8598\n",
      "Epoch 41/50\n",
      "41/41 [==============================] - 0s 11ms/step - loss: 0.2839 - accuracy: 0.8815 - val_loss: 0.3292 - val_accuracy: 0.8629\n",
      "Epoch 42/50\n",
      "41/41 [==============================] - 1s 13ms/step - loss: 0.2811 - accuracy: 0.8784 - val_loss: 0.3286 - val_accuracy: 0.8629\n",
      "Epoch 43/50\n",
      "41/41 [==============================] - 1s 13ms/step - loss: 0.2727 - accuracy: 0.8924 - val_loss: 0.3277 - val_accuracy: 0.8598\n",
      "Epoch 44/50\n",
      "41/41 [==============================] - 1s 13ms/step - loss: 0.2750 - accuracy: 0.8846 - val_loss: 0.3273 - val_accuracy: 0.8629\n",
      "Epoch 45/50\n",
      "41/41 [==============================] - 0s 12ms/step - loss: 0.2916 - accuracy: 0.8691 - val_loss: 0.3261 - val_accuracy: 0.8629\n",
      "Epoch 46/50\n",
      "41/41 [==============================] - 1s 13ms/step - loss: 0.2658 - accuracy: 0.8948 - val_loss: 0.3254 - val_accuracy: 0.8629\n",
      "Epoch 47/50\n",
      "41/41 [==============================] - 1s 13ms/step - loss: 0.2770 - accuracy: 0.8909 - val_loss: 0.3259 - val_accuracy: 0.8660\n",
      "Epoch 48/50\n",
      "41/41 [==============================] - 1s 13ms/step - loss: 0.2821 - accuracy: 0.8831 - val_loss: 0.3257 - val_accuracy: 0.8660\n",
      "Epoch 49/50\n",
      "41/41 [==============================] - 1s 13ms/step - loss: 0.2879 - accuracy: 0.8776 - val_loss: 0.3252 - val_accuracy: 0.8629\n",
      "Epoch 50/50\n",
      "41/41 [==============================] - 1s 13ms/step - loss: 0.2809 - accuracy: 0.8917 - val_loss: 0.3249 - val_accuracy: 0.8629\n"
     ]
    },
    {
     "data": {
      "text/plain": [
       "<tensorflow.python.keras.callbacks.History at 0x7f04bc09cdd0>"
      ]
     },
     "execution_count": 14,
     "metadata": {},
     "output_type": "execute_result"
    }
   ],
   "source": [
    "model.fit(X_train, y_train,\n",
    "         batch_size=32,\n",
    "         epochs=50,\n",
    "         verbose=1,\n",
    "         validation_data=(X_valid, y_valid))"
   ]
  },
  {
   "cell_type": "markdown",
   "metadata": {},
   "source": [
    "## Prediction"
   ]
  },
  {
   "cell_type": "code",
   "execution_count": 15,
   "metadata": {},
   "outputs": [
    {
     "name": "stdout",
     "output_type": "stream",
     "text": [
      "11/11 [==============================] - 0s 3ms/step - loss: 0.3249 - accuracy: 0.8629\n",
      "valid loss : 0.32487741112709045\n",
      "valid accuracy : 0.8629283308982849\n"
     ]
    }
   ],
   "source": [
    "valid_score = model.evaluate(X_valid, y_valid, verbose=1)\n",
    "print('valid loss :', valid_score[0])\n",
    "print('valid accuracy :', valid_score[1])"
   ]
  },
  {
   "cell_type": "code",
   "execution_count": 16,
   "metadata": {},
   "outputs": [
    {
     "name": "stdout",
     "output_type": "stream",
     "text": [
      "WARNING:tensorflow:From <ipython-input-16-8479de99c91c>:1: Sequential.predict_proba (from tensorflow.python.keras.engine.sequential) is deprecated and will be removed after 2021-01-01.\n",
      "Instructions for updating:\n",
      "Please use `model.predict()` instead.\n"
     ]
    }
   ],
   "source": [
    "predictions = model.predict_proba(X_test)"
   ]
  },
  {
   "cell_type": "code",
   "execution_count": 17,
   "metadata": {},
   "outputs": [],
   "source": [
    "submission = pd.DataFrame()\n",
    "submission['id'] = test['id']\n",
    "submission['is_iceberg']=predictions.reshape((predictions.shape[0]))\n",
    "submission.to_csv('../data/submission.csv', index=False)"
   ]
  }
 ],
 "metadata": {
  "kernelspec": {
   "display_name": "aiffel",
   "language": "python",
   "name": "aiffel"
  },
  "language_info": {
   "codemirror_mode": {
    "name": "ipython",
    "version": 3
   },
   "file_extension": ".py",
   "mimetype": "text/x-python",
   "name": "python",
   "nbconvert_exporter": "python",
   "pygments_lexer": "ipython3",
   "version": "3.7.6"
  },
  "toc": {
   "base_numbering": 1,
   "nav_menu": {},
   "number_sections": true,
   "sideBar": true,
   "skip_h1_title": true,
   "title_cell": "Table of Contents",
   "title_sidebar": "Contents",
   "toc_cell": false,
   "toc_position": {},
   "toc_section_display": true,
   "toc_window_display": true
  }
 },
 "nbformat": 4,
 "nbformat_minor": 4
}
