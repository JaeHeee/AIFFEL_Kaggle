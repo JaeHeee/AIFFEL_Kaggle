{
 "cells": [
  {
   "cell_type": "markdown",
   "metadata": {},
   "source": [
    "# Aerial Cactus Identification"
   ]
  },
  {
   "cell_type": "markdown",
   "metadata": {},
   "source": [
    "---"
   ]
  },
  {
   "cell_type": "markdown",
   "metadata": {},
   "source": [
    "## Import"
   ]
  },
  {
   "cell_type": "code",
   "execution_count": 1,
   "metadata": {},
   "outputs": [],
   "source": [
    "import os\n",
    "import numpy as np\n",
    "import pandas as pd\n",
    "import matplotlib.pyplot as plt\n",
    "\n",
    "import tensorflow as tf\n",
    "\n",
    "from tensorflow.keras.preprocessing.image import load_img, img_to_array, ImageDataGenerator"
   ]
  },
  {
   "cell_type": "markdown",
   "metadata": {},
   "source": [
    "## Dataset"
   ]
  },
  {
   "cell_type": "code",
   "execution_count": 2,
   "metadata": {},
   "outputs": [],
   "source": [
    "train_path = '../data/train/'\n",
    "test_path = '../data/test/'\n",
    "train = pd.read_csv('../data/train.csv')\n",
    "submission = pd.read_csv('../data/sample_submission.csv')"
   ]
  },
  {
   "cell_type": "code",
   "execution_count": 3,
   "metadata": {},
   "outputs": [
    {
     "data": {
      "text/html": [
       "<div>\n",
       "<style scoped>\n",
       "    .dataframe tbody tr th:only-of-type {\n",
       "        vertical-align: middle;\n",
       "    }\n",
       "\n",
       "    .dataframe tbody tr th {\n",
       "        vertical-align: top;\n",
       "    }\n",
       "\n",
       "    .dataframe thead th {\n",
       "        text-align: right;\n",
       "    }\n",
       "</style>\n",
       "<table border=\"1\" class=\"dataframe\">\n",
       "  <thead>\n",
       "    <tr style=\"text-align: right;\">\n",
       "      <th></th>\n",
       "      <th>id</th>\n",
       "      <th>has_cactus</th>\n",
       "    </tr>\n",
       "  </thead>\n",
       "  <tbody>\n",
       "    <tr>\n",
       "      <th>0</th>\n",
       "      <td>0004be2cfeaba1c0361d39e2b000257b.jpg</td>\n",
       "      <td>1</td>\n",
       "    </tr>\n",
       "    <tr>\n",
       "      <th>1</th>\n",
       "      <td>000c8a36845c0208e833c79c1bffedd1.jpg</td>\n",
       "      <td>1</td>\n",
       "    </tr>\n",
       "    <tr>\n",
       "      <th>2</th>\n",
       "      <td>000d1e9a533f62e55c289303b072733d.jpg</td>\n",
       "      <td>1</td>\n",
       "    </tr>\n",
       "    <tr>\n",
       "      <th>3</th>\n",
       "      <td>0011485b40695e9138e92d0b3fb55128.jpg</td>\n",
       "      <td>1</td>\n",
       "    </tr>\n",
       "    <tr>\n",
       "      <th>4</th>\n",
       "      <td>0014d7a11e90b62848904c1418fc8cf2.jpg</td>\n",
       "      <td>1</td>\n",
       "    </tr>\n",
       "    <tr>\n",
       "      <th>...</th>\n",
       "      <td>...</td>\n",
       "      <td>...</td>\n",
       "    </tr>\n",
       "    <tr>\n",
       "      <th>17495</th>\n",
       "      <td>ffede47a74e47a5930f81c0b6896479e.jpg</td>\n",
       "      <td>0</td>\n",
       "    </tr>\n",
       "    <tr>\n",
       "      <th>17496</th>\n",
       "      <td>ffef6382a50d23251d4bc05519c91037.jpg</td>\n",
       "      <td>1</td>\n",
       "    </tr>\n",
       "    <tr>\n",
       "      <th>17497</th>\n",
       "      <td>fff059ecc91b30be5745e8b81111dc7b.jpg</td>\n",
       "      <td>1</td>\n",
       "    </tr>\n",
       "    <tr>\n",
       "      <th>17498</th>\n",
       "      <td>fff43acb3b7a23edcc4ae937be2b7522.jpg</td>\n",
       "      <td>0</td>\n",
       "    </tr>\n",
       "    <tr>\n",
       "      <th>17499</th>\n",
       "      <td>fffd9e9b990eba07c836745d8aef1a3a.jpg</td>\n",
       "      <td>1</td>\n",
       "    </tr>\n",
       "  </tbody>\n",
       "</table>\n",
       "<p>17500 rows × 2 columns</p>\n",
       "</div>"
      ],
      "text/plain": [
       "                                         id  has_cactus\n",
       "0      0004be2cfeaba1c0361d39e2b000257b.jpg           1\n",
       "1      000c8a36845c0208e833c79c1bffedd1.jpg           1\n",
       "2      000d1e9a533f62e55c289303b072733d.jpg           1\n",
       "3      0011485b40695e9138e92d0b3fb55128.jpg           1\n",
       "4      0014d7a11e90b62848904c1418fc8cf2.jpg           1\n",
       "...                                     ...         ...\n",
       "17495  ffede47a74e47a5930f81c0b6896479e.jpg           0\n",
       "17496  ffef6382a50d23251d4bc05519c91037.jpg           1\n",
       "17497  fff059ecc91b30be5745e8b81111dc7b.jpg           1\n",
       "17498  fff43acb3b7a23edcc4ae937be2b7522.jpg           0\n",
       "17499  fffd9e9b990eba07c836745d8aef1a3a.jpg           1\n",
       "\n",
       "[17500 rows x 2 columns]"
      ]
     },
     "execution_count": 3,
     "metadata": {},
     "output_type": "execute_result"
    }
   ],
   "source": [
    "train"
   ]
  },
  {
   "cell_type": "code",
   "execution_count": 4,
   "metadata": {},
   "outputs": [],
   "source": [
    "train['has_cactus'] = train['has_cactus'].astype(str)"
   ]
  },
  {
   "cell_type": "code",
   "execution_count": 5,
   "metadata": {},
   "outputs": [
    {
     "name": "stdout",
     "output_type": "stream",
     "text": [
      "(32, 32, 3)\n"
     ]
    },
    {
     "data": {
      "image/png": "[encoded data removed]",
      "text/plain": [
       "<Figure size 432x288 with 1 Axes>"
      ]
     },
     "metadata": {
      "needs_background": "light"
     },
     "output_type": "display_data"
    }
   ],
   "source": [
    "img = load_img(train_path+'0004be2cfeaba1c0361d39e2b000257b.jpg')\n",
    "plt.imshow(img)\n",
    "img_array = img_to_array(img)\n",
    "print(img_array.shape)"
   ]
  },
  {
   "cell_type": "markdown",
   "metadata": {},
   "source": [
    "## Preprocess"
   ]
  },
  {
   "cell_type": "code",
   "execution_count": 6,
   "metadata": {},
   "outputs": [],
   "source": [
    "datagen = ImageDataGenerator(rescale = 1/255.0,\n",
    "                            rotation_range=30,\n",
    "                            width_shift_range=0.3,\n",
    "                            height_shift_range=0.3,\n",
    "                            shear_range=0.3,\n",
    "                            zoom_range=0.3,\n",
    "                            fill_mode='nearest')\n",
    "test_datagen = ImageDataGenerator(rescale=1/255.0)"
   ]
  },
  {
   "cell_type": "code",
   "execution_count": 7,
   "metadata": {},
   "outputs": [
    {
     "name": "stdout",
     "output_type": "stream",
     "text": [
      "Found 3500 validated image filenames belonging to 2 classes.\n"
     ]
    }
   ],
   "source": [
    "valid_generator = datagen.flow_from_dataframe(dataframe=train[:3500],\n",
    "                                             directory=train_path,\n",
    "                                             x_col='id',\n",
    "                                             y_col='has_cactus',\n",
    "                                             class_mode='binary',\n",
    "                                             batch_size=32,\n",
    "                                             target_size=(32,32),\n",
    "                                             Shuffle=True,\n",
    "                                             seed=2020)"
   ]
  },
  {
   "cell_type": "code",
   "execution_count": 8,
   "metadata": {},
   "outputs": [
    {
     "name": "stdout",
     "output_type": "stream",
     "text": [
      "Found 14000 validated image filenames belonging to 2 classes.\n"
     ]
    }
   ],
   "source": [
    "train_generator = datagen.flow_from_dataframe(dataframe=train[3500:],\n",
    "                                             directory=train_path,\n",
    "                                             x_col='id',\n",
    "                                             y_col='has_cactus',\n",
    "                                             class_mode='binary',\n",
    "                                             batch_size=32,\n",
    "                                             target_size=(32,32),\n",
    "                                             Shuffle=True,\n",
    "                                             seed=2020)"
   ]
  },
  {
   "cell_type": "markdown",
   "metadata": {},
   "source": [
    "## Model"
   ]
  },
  {
   "cell_type": "code",
   "execution_count": 25,
   "metadata": {},
   "outputs": [],
   "source": [
    "input_ = tf.keras.layers.Input(shape=(32,32,3))\n",
    "\n",
    "x = tf.keras.layers.Conv2D(64, (3,3), activation='relu', padding='same')(input_)\n",
    "x = tf.keras.layers.Conv2D(64, (3,3), activation='relu', padding='same')(x)\n",
    "x = tf.keras.layers.MaxPooling2D((2,2), strides=(2,2))(x)\n",
    "\n",
    "x = tf.keras.layers.Conv2D(128, (3,3), activation='relu', padding='same')(x)\n",
    "x = tf.keras.layers.Conv2D(128, (3,3), activation='relu', padding='same')(x)\n",
    "x = tf.keras.layers.MaxPooling2D((2,2), strides=(2,2))(x)\n",
    "\n",
    "x = tf.keras.layers.Conv2D(256, (3,3), activation='relu', padding='same')(x)\n",
    "x = tf.keras.layers.Conv2D(256, (3,3), activation='relu', padding='same')(x)\n",
    "x = tf.keras.layers.Conv2D(256, (3,3), activation='relu', padding='same')(x)\n",
    "x = tf.keras.layers.MaxPooling2D((2,2), strides=(2,2))(x)\n",
    "\n",
    "x = tf.keras.layers.GlobalAvgPool2D()(x)\n",
    "x = tf.keras.layers.Dense(4096, activation='relu')(x)\n",
    "\n",
    "output_ = tf.keras.layers.Dense(1, activation='sigmoid')(x)"
   ]
  },
  {
   "cell_type": "code",
   "execution_count": 26,
   "metadata": {},
   "outputs": [],
   "source": [
    "model = tf.keras.models.Model(input_, output_)"
   ]
  },
  {
   "cell_type": "code",
   "execution_count": 27,
   "metadata": {},
   "outputs": [
    {
     "name": "stdout",
     "output_type": "stream",
     "text": [
      "Model: \"model_2\"\n",
      "_________________________________________________________________\n",
      "Layer (type)                 Output Shape              Param #   \n",
      "=================================================================\n",
      "input_3 (InputLayer)         [(None, 32, 32, 3)]       0         \n",
      "_________________________________________________________________\n",
      "conv2d_14 (Conv2D)           (None, 32, 32, 64)        1792      \n",
      "_________________________________________________________________\n",
      "conv2d_15 (Conv2D)           (None, 32, 32, 64)        36928     \n",
      "_________________________________________________________________\n",
      "max_pooling2d_6 (MaxPooling2 (None, 16, 16, 64)        0         \n",
      "_________________________________________________________________\n",
      "conv2d_16 (Conv2D)           (None, 16, 16, 128)       73856     \n",
      "_________________________________________________________________\n",
      "conv2d_17 (Conv2D)           (None, 16, 16, 128)       147584    \n",
      "_________________________________________________________________\n",
      "max_pooling2d_7 (MaxPooling2 (None, 8, 8, 128)         0         \n",
      "_________________________________________________________________\n",
      "conv2d_18 (Conv2D)           (None, 8, 8, 256)         295168    \n",
      "_________________________________________________________________\n",
      "conv2d_19 (Conv2D)           (None, 8, 8, 256)         590080    \n",
      "_________________________________________________________________\n",
      "conv2d_20 (Conv2D)           (None, 8, 8, 256)         590080    \n",
      "_________________________________________________________________\n",
      "max_pooling2d_8 (MaxPooling2 (None, 4, 4, 256)         0         \n",
      "_________________________________________________________________\n",
      "global_average_pooling2d_2 ( (None, 256)               0         \n",
      "_________________________________________________________________\n",
      "dense_4 (Dense)              (None, 4096)              1052672   \n",
      "_________________________________________________________________\n",
      "dense_5 (Dense)              (None, 1)                 4097      \n",
      "=================================================================\n",
      "Total params: 2,792,257\n",
      "Trainable params: 2,792,257\n",
      "Non-trainable params: 0\n",
      "_________________________________________________________________\n"
     ]
    }
   ],
   "source": [
    "model.summary()"
   ]
  },
  {
   "cell_type": "code",
   "execution_count": 28,
   "metadata": {},
   "outputs": [],
   "source": [
    "model.compile(loss='binary_crossentropy',\n",
    "              optimizer=tf.keras.optimizers.Adam(lr= 0.001, beta_1=0.9, beta_2=0.999, epsilon=1e-07),\n",
    "              metrics=['accuracy'])"
   ]
  },
  {
   "cell_type": "code",
   "execution_count": 29,
   "metadata": {},
   "outputs": [],
   "source": [
    "lr_scheduler = tf.keras.callbacks.ReduceLROnPlateau(\n",
    "    monitor='val_loss', factor=0.7, patience=30)"
   ]
  },
  {
   "cell_type": "code",
   "execution_count": 30,
   "metadata": {},
   "outputs": [],
   "source": [
    "checkpoint_cb = tf.keras.callbacks.ModelCheckpoint(\"model.h5\",\n",
    "                                                  save_best_only=True,\n",
    "                                                  monitor='val_accuracy',\n",
    "                                                  mode='auto')"
   ]
  },
  {
   "cell_type": "markdown",
   "metadata": {},
   "source": [
    "## Train"
   ]
  },
  {
   "cell_type": "code",
   "execution_count": 31,
   "metadata": {},
   "outputs": [],
   "source": [
    "epochs=100"
   ]
  },
  {
   "cell_type": "code",
   "execution_count": 32,
   "metadata": {},
   "outputs": [
    {
     "name": "stdout",
     "output_type": "stream",
     "text": [
      "Epoch 1/100\n",
      "100/100 [==============================] - 3s 25ms/step - loss: 0.5334 - accuracy: 0.7506 - val_loss: 0.6264 - val_accuracy: 0.7424 - lr: 0.0010\n",
      "Epoch 2/100\n",
      "100/100 [==============================] - 2s 24ms/step - loss: 0.5662 - accuracy: 0.7475 - val_loss: 0.5691 - val_accuracy: 0.7462 - lr: 0.0010\n",
      "Epoch 3/100\n",
      "100/100 [==============================] - 2s 24ms/step - loss: 0.5396 - accuracy: 0.7650 - val_loss: 0.5715 - val_accuracy: 0.7468 - lr: 0.0010\n",
      "Epoch 4/100\n",
      "100/100 [==============================] - 2s 23ms/step - loss: 0.5613 - accuracy: 0.7481 - val_loss: 0.5721 - val_accuracy: 0.7412 - lr: 0.0010\n",
      "Epoch 5/100\n",
      "100/100 [==============================] - 2s 25ms/step - loss: 0.5313 - accuracy: 0.7550 - val_loss: 0.4170 - val_accuracy: 0.8731 - lr: 0.0010\n",
      "Epoch 6/100\n",
      "100/100 [==============================] - 2s 23ms/step - loss: 0.4361 - accuracy: 0.8003 - val_loss: 0.5688 - val_accuracy: 0.7354 - lr: 0.0010\n",
      "Epoch 7/100\n",
      "100/100 [==============================] - 2s 23ms/step - loss: 0.3273 - accuracy: 0.8747 - val_loss: 0.5310 - val_accuracy: 0.7575 - lr: 0.0010\n",
      "Epoch 8/100\n",
      "100/100 [==============================] - 3s 25ms/step - loss: 0.3166 - accuracy: 0.8775 - val_loss: 0.2741 - val_accuracy: 0.9051 - lr: 0.0010\n",
      "Epoch 9/100\n",
      "100/100 [==============================] - 2s 25ms/step - loss: 0.2803 - accuracy: 0.8956 - val_loss: 0.2816 - val_accuracy: 0.9006 - lr: 0.0010\n",
      "Epoch 10/100\n",
      "100/100 [==============================] - 3s 26ms/step - loss: 0.2821 - accuracy: 0.8928 - val_loss: 0.2608 - val_accuracy: 0.9146 - lr: 0.0010\n",
      "Epoch 11/100\n",
      "100/100 [==============================] - 2s 24ms/step - loss: 0.3013 - accuracy: 0.8894 - val_loss: 0.2558 - val_accuracy: 0.9119 - lr: 0.0010\n",
      "Epoch 12/100\n",
      "100/100 [==============================] - 2s 23ms/step - loss: 0.2618 - accuracy: 0.9000 - val_loss: 0.2581 - val_accuracy: 0.8994 - lr: 0.0010\n",
      "Epoch 13/100\n",
      "100/100 [==============================] - 2s 24ms/step - loss: 0.2510 - accuracy: 0.9097 - val_loss: 0.3904 - val_accuracy: 0.7763 - lr: 0.0010\n",
      "Epoch 14/100\n",
      "100/100 [==============================] - 2s 25ms/step - loss: 0.2674 - accuracy: 0.8931 - val_loss: 0.2038 - val_accuracy: 0.9241 - lr: 0.0010\n",
      "Epoch 15/100\n",
      "100/100 [==============================] - 2s 24ms/step - loss: 0.2434 - accuracy: 0.9086 - val_loss: 0.2134 - val_accuracy: 0.9231 - lr: 0.0010\n",
      "Epoch 16/100\n",
      "100/100 [==============================] - 2s 24ms/step - loss: 0.2183 - accuracy: 0.9150 - val_loss: 0.1976 - val_accuracy: 0.9291 - lr: 0.0010\n",
      "Epoch 17/100\n",
      "100/100 [==============================] - 2s 24ms/step - loss: 0.1983 - accuracy: 0.9244 - val_loss: 0.2599 - val_accuracy: 0.9281 - lr: 0.0010\n",
      "Epoch 18/100\n",
      "100/100 [==============================] - 2s 24ms/step - loss: 0.1803 - accuracy: 0.9281 - val_loss: 0.1740 - val_accuracy: 0.9272 - lr: 0.0010\n",
      "Epoch 19/100\n",
      "100/100 [==============================] - 2s 24ms/step - loss: 0.1851 - accuracy: 0.9209 - val_loss: 0.1530 - val_accuracy: 0.9337 - lr: 0.0010\n",
      "Epoch 20/100\n",
      "100/100 [==============================] - 2s 24ms/step - loss: 0.1785 - accuracy: 0.9247 - val_loss: 0.2371 - val_accuracy: 0.9044 - lr: 0.0010\n",
      "Epoch 21/100\n",
      "100/100 [==============================] - 2s 23ms/step - loss: 0.1843 - accuracy: 0.9262 - val_loss: 0.3061 - val_accuracy: 0.8918 - lr: 0.0010\n",
      "Epoch 22/100\n",
      "100/100 [==============================] - 2s 24ms/step - loss: 0.2132 - accuracy: 0.9156 - val_loss: 0.1850 - val_accuracy: 0.9262 - lr: 0.0010\n",
      "Epoch 23/100\n",
      "100/100 [==============================] - 2s 24ms/step - loss: 0.1684 - accuracy: 0.9281 - val_loss: 0.4306 - val_accuracy: 0.8481 - lr: 0.0010\n",
      "Epoch 24/100\n",
      "100/100 [==============================] - 2s 23ms/step - loss: 0.1888 - accuracy: 0.9212 - val_loss: 0.1737 - val_accuracy: 0.9250 - lr: 0.0010\n",
      "Epoch 25/100\n",
      "100/100 [==============================] - 2s 23ms/step - loss: 0.1602 - accuracy: 0.9394 - val_loss: 0.2230 - val_accuracy: 0.9089 - lr: 0.0010\n",
      "Epoch 26/100\n",
      "100/100 [==============================] - 2s 25ms/step - loss: 0.1767 - accuracy: 0.9253 - val_loss: 0.1424 - val_accuracy: 0.9425 - lr: 0.0010\n",
      "Epoch 27/100\n",
      "100/100 [==============================] - 2s 25ms/step - loss: 0.1466 - accuracy: 0.9419 - val_loss: 0.1317 - val_accuracy: 0.9481 - lr: 0.0010\n",
      "Epoch 28/100\n",
      "100/100 [==============================] - 2s 23ms/step - loss: 0.1410 - accuracy: 0.9435 - val_loss: 0.1747 - val_accuracy: 0.9250 - lr: 0.0010\n",
      "Epoch 29/100\n",
      "100/100 [==============================] - 2s 23ms/step - loss: 0.1428 - accuracy: 0.9416 - val_loss: 0.1843 - val_accuracy: 0.9278 - lr: 0.0010\n",
      "Epoch 30/100\n",
      "100/100 [==============================] - 2s 24ms/step - loss: 0.1552 - accuracy: 0.9413 - val_loss: 0.1745 - val_accuracy: 0.9312 - lr: 0.0010\n",
      "Epoch 31/100\n",
      "100/100 [==============================] - 2s 24ms/step - loss: 0.1574 - accuracy: 0.9347 - val_loss: 0.1199 - val_accuracy: 0.9500 - lr: 0.0010\n",
      "Epoch 32/100\n",
      "100/100 [==============================] - 2s 23ms/step - loss: 0.1410 - accuracy: 0.9406 - val_loss: 0.1388 - val_accuracy: 0.9444 - lr: 0.0010\n",
      "Epoch 33/100\n",
      "100/100 [==============================] - 2s 23ms/step - loss: 0.1280 - accuracy: 0.9485 - val_loss: 0.1686 - val_accuracy: 0.9369 - lr: 0.0010\n",
      "Epoch 34/100\n",
      "100/100 [==============================] - 2s 23ms/step - loss: 0.1113 - accuracy: 0.9566 - val_loss: 0.1334 - val_accuracy: 0.9462 - lr: 0.0010\n",
      "Epoch 35/100\n",
      "100/100 [==============================] - 2s 24ms/step - loss: 0.1408 - accuracy: 0.9391 - val_loss: 0.1183 - val_accuracy: 0.9488 - lr: 0.0010\n",
      "Epoch 36/100\n",
      "100/100 [==============================] - 2s 24ms/step - loss: 0.1217 - accuracy: 0.9500 - val_loss: 0.1184 - val_accuracy: 0.9532 - lr: 0.0010\n",
      "Epoch 37/100\n",
      "100/100 [==============================] - 2s 24ms/step - loss: 0.1924 - accuracy: 0.9240 - val_loss: 0.3010 - val_accuracy: 0.8681 - lr: 0.0010\n",
      "Epoch 38/100\n",
      "100/100 [==============================] - 2s 24ms/step - loss: 0.1487 - accuracy: 0.9434 - val_loss: 0.1399 - val_accuracy: 0.9443 - lr: 0.0010\n",
      "Epoch 39/100\n",
      "100/100 [==============================] - 2s 24ms/step - loss: 0.1353 - accuracy: 0.9450 - val_loss: 0.1359 - val_accuracy: 0.9481 - lr: 0.0010\n",
      "Epoch 40/100\n",
      "100/100 [==============================] - 2s 25ms/step - loss: 0.1501 - accuracy: 0.9350 - val_loss: 0.1093 - val_accuracy: 0.9513 - lr: 0.0010\n",
      "Epoch 41/100\n",
      "100/100 [==============================] - 2s 24ms/step - loss: 0.1188 - accuracy: 0.9526 - val_loss: 0.1472 - val_accuracy: 0.9444 - lr: 0.0010\n",
      "Epoch 42/100\n",
      "100/100 [==============================] - 2s 24ms/step - loss: 0.1176 - accuracy: 0.9534 - val_loss: 0.1932 - val_accuracy: 0.9171 - lr: 0.0010\n",
      "Epoch 43/100\n",
      "100/100 [==============================] - 2s 24ms/step - loss: 0.1268 - accuracy: 0.9525 - val_loss: 0.1078 - val_accuracy: 0.9556 - lr: 0.0010\n",
      "Epoch 44/100\n",
      "100/100 [==============================] - 2s 23ms/step - loss: 0.1295 - accuracy: 0.9463 - val_loss: 0.1490 - val_accuracy: 0.9430 - lr: 0.0010\n",
      "Epoch 45/100\n",
      "100/100 [==============================] - 2s 24ms/step - loss: 0.1129 - accuracy: 0.9556 - val_loss: 0.2800 - val_accuracy: 0.9062 - lr: 0.0010\n",
      "Epoch 46/100\n",
      "100/100 [==============================] - 2s 25ms/step - loss: 0.1092 - accuracy: 0.9589 - val_loss: 0.0926 - val_accuracy: 0.9669 - lr: 0.0010\n",
      "Epoch 47/100\n",
      "100/100 [==============================] - 2s 24ms/step - loss: 0.1267 - accuracy: 0.9494 - val_loss: 0.1090 - val_accuracy: 0.9588 - lr: 0.0010\n",
      "Epoch 48/100\n",
      "100/100 [==============================] - 2s 24ms/step - loss: 0.0858 - accuracy: 0.9656 - val_loss: 0.1333 - val_accuracy: 0.9494 - lr: 0.0010\n",
      "Epoch 49/100\n",
      "100/100 [==============================] - 2s 24ms/step - loss: 0.1000 - accuracy: 0.9591 - val_loss: 0.1394 - val_accuracy: 0.9399 - lr: 0.0010\n",
      "Epoch 50/100\n",
      "100/100 [==============================] - 2s 23ms/step - loss: 0.1030 - accuracy: 0.9573 - val_loss: 0.1280 - val_accuracy: 0.9506 - lr: 0.0010\n",
      "Epoch 51/100\n",
      "100/100 [==============================] - 2s 24ms/step - loss: 0.1100 - accuracy: 0.9575 - val_loss: 0.1419 - val_accuracy: 0.9411 - lr: 0.0010\n",
      "Epoch 52/100\n",
      "100/100 [==============================] - 2s 24ms/step - loss: 0.0972 - accuracy: 0.9609 - val_loss: 0.2043 - val_accuracy: 0.9144 - lr: 0.0010\n"
     ]
    },
    {
     "name": "stdout",
     "output_type": "stream",
     "text": [
      "Epoch 53/100\n",
      "100/100 [==============================] - 2s 23ms/step - loss: 0.1242 - accuracy: 0.9494 - val_loss: 0.0903 - val_accuracy: 0.9595 - lr: 0.0010\n",
      "Epoch 54/100\n",
      "100/100 [==============================] - 2s 23ms/step - loss: 0.1017 - accuracy: 0.9604 - val_loss: 0.1587 - val_accuracy: 0.9381 - lr: 0.0010\n",
      "Epoch 55/100\n",
      "100/100 [==============================] - 2s 24ms/step - loss: 0.0960 - accuracy: 0.9641 - val_loss: 0.1249 - val_accuracy: 0.9487 - lr: 0.0010\n",
      "Epoch 56/100\n",
      "100/100 [==============================] - 2s 23ms/step - loss: 0.0852 - accuracy: 0.9650 - val_loss: 0.0983 - val_accuracy: 0.9631 - lr: 0.0010\n",
      "Epoch 57/100\n",
      "100/100 [==============================] - 2s 24ms/step - loss: 0.1118 - accuracy: 0.9569 - val_loss: 0.1868 - val_accuracy: 0.9247 - lr: 0.0010\n",
      "Epoch 58/100\n",
      "100/100 [==============================] - 2s 24ms/step - loss: 0.1015 - accuracy: 0.9625 - val_loss: 0.0881 - val_accuracy: 0.9650 - lr: 0.0010\n",
      "Epoch 59/100\n",
      "100/100 [==============================] - 2s 23ms/step - loss: 0.1144 - accuracy: 0.9573 - val_loss: 0.0943 - val_accuracy: 0.9658 - lr: 0.0010\n",
      "Epoch 60/100\n",
      "100/100 [==============================] - 2s 23ms/step - loss: 0.0962 - accuracy: 0.9631 - val_loss: 0.1075 - val_accuracy: 0.9594 - lr: 0.0010\n",
      "Epoch 61/100\n",
      "100/100 [==============================] - 2s 24ms/step - loss: 0.0924 - accuracy: 0.9625 - val_loss: 0.0881 - val_accuracy: 0.9644 - lr: 0.0010\n",
      "Epoch 62/100\n",
      "100/100 [==============================] - 2s 23ms/step - loss: 0.0954 - accuracy: 0.9616 - val_loss: 0.0928 - val_accuracy: 0.9582 - lr: 0.0010\n",
      "Epoch 63/100\n",
      "100/100 [==============================] - 2s 24ms/step - loss: 0.0861 - accuracy: 0.9673 - val_loss: 0.1292 - val_accuracy: 0.9519 - lr: 0.0010\n",
      "Epoch 64/100\n",
      "100/100 [==============================] - 2s 23ms/step - loss: 0.0894 - accuracy: 0.9672 - val_loss: 0.1223 - val_accuracy: 0.9544 - lr: 0.0010\n",
      "Epoch 65/100\n",
      "100/100 [==============================] - 2s 23ms/step - loss: 0.1103 - accuracy: 0.9563 - val_loss: 0.2096 - val_accuracy: 0.9069 - lr: 0.0010\n",
      "Epoch 66/100\n",
      "100/100 [==============================] - 2s 23ms/step - loss: 0.1372 - accuracy: 0.9447 - val_loss: 0.1481 - val_accuracy: 0.9424 - lr: 0.0010\n",
      "Epoch 67/100\n",
      "100/100 [==============================] - 2s 23ms/step - loss: 0.1284 - accuracy: 0.9484 - val_loss: 0.1178 - val_accuracy: 0.9531 - lr: 0.0010\n",
      "Epoch 68/100\n",
      "100/100 [==============================] - 2s 24ms/step - loss: 0.1143 - accuracy: 0.9529 - val_loss: 0.1180 - val_accuracy: 0.9557 - lr: 0.0010\n",
      "Epoch 69/100\n",
      "100/100 [==============================] - 2s 24ms/step - loss: 0.0890 - accuracy: 0.9669 - val_loss: 0.0797 - val_accuracy: 0.9650 - lr: 0.0010\n",
      "Epoch 70/100\n",
      "100/100 [==============================] - 2s 23ms/step - loss: 0.0928 - accuracy: 0.9647 - val_loss: 0.0842 - val_accuracy: 0.9646 - lr: 0.0010\n",
      "Epoch 71/100\n",
      "100/100 [==============================] - 2s 23ms/step - loss: 0.0799 - accuracy: 0.9681 - val_loss: 0.0782 - val_accuracy: 0.9663 - lr: 0.0010\n",
      "Epoch 72/100\n",
      "100/100 [==============================] - 2s 24ms/step - loss: 0.0997 - accuracy: 0.9636 - val_loss: 0.0849 - val_accuracy: 0.9677 - lr: 0.0010\n",
      "Epoch 73/100\n",
      "100/100 [==============================] - 2s 24ms/step - loss: 0.0802 - accuracy: 0.9703 - val_loss: 0.1173 - val_accuracy: 0.9531 - lr: 0.0010\n",
      "Epoch 74/100\n",
      "100/100 [==============================] - 2s 24ms/step - loss: 0.0773 - accuracy: 0.9725 - val_loss: 0.0977 - val_accuracy: 0.9613 - lr: 0.0010\n",
      "Epoch 75/100\n",
      "100/100 [==============================] - 3s 25ms/step - loss: 0.0850 - accuracy: 0.9675 - val_loss: 0.1171 - val_accuracy: 0.9582 - lr: 0.0010\n",
      "Epoch 76/100\n",
      "100/100 [==============================] - 2s 24ms/step - loss: 0.0754 - accuracy: 0.9724 - val_loss: 0.1390 - val_accuracy: 0.9481 - lr: 0.0010\n",
      "Epoch 77/100\n",
      "100/100 [==============================] - 2s 24ms/step - loss: 0.1031 - accuracy: 0.9588 - val_loss: 0.0779 - val_accuracy: 0.9696 - lr: 0.0010\n",
      "Epoch 78/100\n",
      "100/100 [==============================] - 2s 24ms/step - loss: 0.0817 - accuracy: 0.9691 - val_loss: 0.0812 - val_accuracy: 0.9681 - lr: 0.0010\n",
      "Epoch 79/100\n",
      "100/100 [==============================] - 2s 25ms/step - loss: 0.0784 - accuracy: 0.9703 - val_loss: 0.0657 - val_accuracy: 0.9747 - lr: 0.0010\n",
      "Epoch 80/100\n",
      "100/100 [==============================] - 2s 23ms/step - loss: 0.0789 - accuracy: 0.9700 - val_loss: 0.1020 - val_accuracy: 0.9588 - lr: 0.0010\n",
      "Epoch 81/100\n",
      "100/100 [==============================] - 2s 23ms/step - loss: 0.1033 - accuracy: 0.9585 - val_loss: 0.0859 - val_accuracy: 0.9677 - lr: 0.0010\n",
      "Epoch 82/100\n",
      "100/100 [==============================] - 2s 24ms/step - loss: 0.0655 - accuracy: 0.9722 - val_loss: 0.1009 - val_accuracy: 0.9644 - lr: 0.0010\n",
      "Epoch 83/100\n",
      "100/100 [==============================] - 2s 24ms/step - loss: 0.0735 - accuracy: 0.9737 - val_loss: 0.0990 - val_accuracy: 0.9614 - lr: 0.0010\n",
      "Epoch 84/100\n",
      "100/100 [==============================] - 2s 24ms/step - loss: 0.0810 - accuracy: 0.9700 - val_loss: 0.0711 - val_accuracy: 0.9712 - lr: 0.0010\n",
      "Epoch 85/100\n",
      "100/100 [==============================] - 2s 24ms/step - loss: 0.0815 - accuracy: 0.9692 - val_loss: 0.0739 - val_accuracy: 0.9703 - lr: 0.0010\n",
      "Epoch 86/100\n",
      "100/100 [==============================] - 2s 24ms/step - loss: 0.0724 - accuracy: 0.9697 - val_loss: 0.0834 - val_accuracy: 0.9669 - lr: 0.0010\n",
      "Epoch 87/100\n",
      "100/100 [==============================] - 2s 24ms/step - loss: 0.0737 - accuracy: 0.9747 - val_loss: 0.1072 - val_accuracy: 0.9601 - lr: 0.0010\n",
      "Epoch 88/100\n",
      "100/100 [==============================] - 2s 25ms/step - loss: 0.0705 - accuracy: 0.9762 - val_loss: 0.0740 - val_accuracy: 0.9737 - lr: 0.0010\n",
      "Epoch 89/100\n",
      "100/100 [==============================] - 2s 24ms/step - loss: 0.0677 - accuracy: 0.9741 - val_loss: 0.0709 - val_accuracy: 0.9756 - lr: 0.0010\n",
      "Epoch 90/100\n",
      "100/100 [==============================] - 2s 24ms/step - loss: 0.0789 - accuracy: 0.9689 - val_loss: 0.0841 - val_accuracy: 0.9709 - lr: 0.0010\n",
      "Epoch 91/100\n",
      "100/100 [==============================] - 2s 23ms/step - loss: 0.0715 - accuracy: 0.9728 - val_loss: 0.0754 - val_accuracy: 0.9731 - lr: 0.0010\n",
      "Epoch 92/100\n",
      "100/100 [==============================] - 2s 24ms/step - loss: 0.0757 - accuracy: 0.9691 - val_loss: 0.1134 - val_accuracy: 0.9614 - lr: 0.0010\n",
      "Epoch 93/100\n",
      "100/100 [==============================] - 2s 24ms/step - loss: 0.0842 - accuracy: 0.9647 - val_loss: 0.0835 - val_accuracy: 0.9675 - lr: 0.0010\n",
      "Epoch 94/100\n",
      "100/100 [==============================] - 2s 24ms/step - loss: 0.0792 - accuracy: 0.9683 - val_loss: 0.0585 - val_accuracy: 0.9797 - lr: 0.0010\n",
      "Epoch 95/100\n",
      "100/100 [==============================] - 2s 24ms/step - loss: 0.0595 - accuracy: 0.9753 - val_loss: 0.0773 - val_accuracy: 0.9712 - lr: 0.0010\n",
      "Epoch 96/100\n",
      "100/100 [==============================] - 2s 23ms/step - loss: 0.0777 - accuracy: 0.9741 - val_loss: 0.0696 - val_accuracy: 0.9753 - lr: 0.0010\n",
      "Epoch 97/100\n",
      "100/100 [==============================] - 2s 24ms/step - loss: 0.0626 - accuracy: 0.9769 - val_loss: 0.0802 - val_accuracy: 0.9700 - lr: 0.0010\n",
      "Epoch 98/100\n",
      "100/100 [==============================] - 2s 23ms/step - loss: 0.0718 - accuracy: 0.9720 - val_loss: 0.0722 - val_accuracy: 0.9728 - lr: 0.0010\n",
      "Epoch 99/100\n",
      "100/100 [==============================] - 2s 24ms/step - loss: 0.0641 - accuracy: 0.9762 - val_loss: 0.0631 - val_accuracy: 0.9769 - lr: 0.0010\n",
      "Epoch 100/100\n",
      "100/100 [==============================] - 2s 23ms/step - loss: 0.0700 - accuracy: 0.9716 - val_loss: 0.0821 - val_accuracy: 0.9671 - lr: 0.0010\n"
     ]
    }
   ],
   "source": [
    "history = model.fit_generator(train_generator,\n",
    "                              steps_per_epoch=100,\n",
    "                              epochs=epochs,\n",
    "                              validation_data = valid_generator,\n",
    "                              validation_steps=50,\n",
    "                             callbacks=[lr_scheduler, checkpoint_cb])"
   ]
  },
  {
   "cell_type": "code",
   "execution_count": 33,
   "metadata": {},
   "outputs": [],
   "source": [
    "acc = history.history['accuracy']\n",
    "val_acc = history.history['val_accuracy']\n",
    "loss = history.history['loss']\n",
    "val_loss = history.history['val_loss']"
   ]
  },
  {
   "cell_type": "code",
   "execution_count": 34,
   "metadata": {},
   "outputs": [
    {
     "data": {
      "text/plain": [
       "Text(0.5, 1.0, 'Loss')"
      ]
     },
     "execution_count": 34,
     "metadata": {},
     "output_type": "execute_result"
    },
    {
     "data": {
      "image/png": "[encoded data removed]",
      "text/plain": [
       "<Figure size 1152x576 with 2 Axes>"
      ]
     },
     "metadata": {
      "needs_background": "light"
     },
     "output_type": "display_data"
    }
   ],
   "source": [
    "plt.figure(figsize=(16,8))\n",
    "plt.subplot(1,2,1)\n",
    "plt.plot(range(epochs), acc, label='train acc')\n",
    "plt.plot(range(epochs), val_acc, label='validation acc')\n",
    "plt.legend(loc='lower right')\n",
    "plt.title(\"Accuracy\")\n",
    "\n",
    "plt.subplot(1,2,2)\n",
    "plt.plot(range(epochs), loss, label='train loss')\n",
    "plt.plot(range(epochs), val_loss, label='validation loss')\n",
    "plt.legend(loc='upper right')\n",
    "plt.title(\"Loss\")"
   ]
  },
  {
   "cell_type": "markdown",
   "metadata": {},
   "source": [
    "## Prediction"
   ]
  },
  {
   "cell_type": "code",
   "execution_count": 35,
   "metadata": {},
   "outputs": [],
   "source": [
    "best_model = tf.keras.models.load_model('model.h5')"
   ]
  },
  {
   "cell_type": "code",
   "execution_count": 37,
   "metadata": {},
   "outputs": [],
   "source": [
    "tests = pd.DataFrame()\n",
    "tests['id']= os.listdir(test_path)"
   ]
  },
  {
   "cell_type": "code",
   "execution_count": 38,
   "metadata": {},
   "outputs": [
    {
     "data": {
      "text/html": [
       "<div>\n",
       "<style scoped>\n",
       "    .dataframe tbody tr th:only-of-type {\n",
       "        vertical-align: middle;\n",
       "    }\n",
       "\n",
       "    .dataframe tbody tr th {\n",
       "        vertical-align: top;\n",
       "    }\n",
       "\n",
       "    .dataframe thead th {\n",
       "        text-align: right;\n",
       "    }\n",
       "</style>\n",
       "<table border=\"1\" class=\"dataframe\">\n",
       "  <thead>\n",
       "    <tr style=\"text-align: right;\">\n",
       "      <th></th>\n",
       "      <th>id</th>\n",
       "    </tr>\n",
       "  </thead>\n",
       "  <tbody>\n",
       "    <tr>\n",
       "      <th>0</th>\n",
       "      <td>90215d80d9af4c751646015aabf33660.jpg</td>\n",
       "    </tr>\n",
       "    <tr>\n",
       "      <th>1</th>\n",
       "      <td>5ffc4f64d6f73f85c484596de8f68e1d.jpg</td>\n",
       "    </tr>\n",
       "    <tr>\n",
       "      <th>2</th>\n",
       "      <td>c3d1d83d50483e6e97b7290fa2db51ac.jpg</td>\n",
       "    </tr>\n",
       "    <tr>\n",
       "      <th>3</th>\n",
       "      <td>bee03b86bb300e81a3b4480d1a35e801.jpg</td>\n",
       "    </tr>\n",
       "    <tr>\n",
       "      <th>4</th>\n",
       "      <td>8f7c18b70b979a25e7f09e108188202c.jpg</td>\n",
       "    </tr>\n",
       "    <tr>\n",
       "      <th>...</th>\n",
       "      <td>...</td>\n",
       "    </tr>\n",
       "    <tr>\n",
       "      <th>3995</th>\n",
       "      <td>6054b22afc730171f4c7eaddaefa18ae.jpg</td>\n",
       "    </tr>\n",
       "    <tr>\n",
       "      <th>3996</th>\n",
       "      <td>5b0ddc8fd679ecbec4f9c7461dae6ffe.jpg</td>\n",
       "    </tr>\n",
       "    <tr>\n",
       "      <th>3997</th>\n",
       "      <td>05738a763b54b164019a62be99739702.jpg</td>\n",
       "    </tr>\n",
       "    <tr>\n",
       "      <th>3998</th>\n",
       "      <td>132e8c9df799f34740bfc2f8845a3910.jpg</td>\n",
       "    </tr>\n",
       "    <tr>\n",
       "      <th>3999</th>\n",
       "      <td>62117eb657ecb6db1325efadda92210d.jpg</td>\n",
       "    </tr>\n",
       "  </tbody>\n",
       "</table>\n",
       "<p>4000 rows × 1 columns</p>\n",
       "</div>"
      ],
      "text/plain": [
       "                                        id\n",
       "0     90215d80d9af4c751646015aabf33660.jpg\n",
       "1     5ffc4f64d6f73f85c484596de8f68e1d.jpg\n",
       "2     c3d1d83d50483e6e97b7290fa2db51ac.jpg\n",
       "3     bee03b86bb300e81a3b4480d1a35e801.jpg\n",
       "4     8f7c18b70b979a25e7f09e108188202c.jpg\n",
       "...                                    ...\n",
       "3995  6054b22afc730171f4c7eaddaefa18ae.jpg\n",
       "3996  5b0ddc8fd679ecbec4f9c7461dae6ffe.jpg\n",
       "3997  05738a763b54b164019a62be99739702.jpg\n",
       "3998  132e8c9df799f34740bfc2f8845a3910.jpg\n",
       "3999  62117eb657ecb6db1325efadda92210d.jpg\n",
       "\n",
       "[4000 rows x 1 columns]"
      ]
     },
     "execution_count": 38,
     "metadata": {},
     "output_type": "execute_result"
    }
   ],
   "source": [
    "tests"
   ]
  },
  {
   "cell_type": "code",
   "execution_count": 39,
   "metadata": {},
   "outputs": [
    {
     "name": "stdout",
     "output_type": "stream",
     "text": [
      "Found 4000 validated image filenames.\n"
     ]
    }
   ],
   "source": [
    "test_gen = test_datagen.flow_from_dataframe(dataframe=tests,\n",
    "                                             directory=test_path,\n",
    "                                             x_col='id',\n",
    "                                             y_col=None,\n",
    "                                             class_mode=None,\n",
    "                                             batch_size=32,\n",
    "                                             target_size=(32,32),\n",
    "                                             Shuffle=False,\n",
    "                                             seed=2020)\n"
   ]
  },
  {
   "cell_type": "code",
   "execution_count": 41,
   "metadata": {},
   "outputs": [
    {
     "data": {
      "text/plain": [
       "4000"
      ]
     },
     "execution_count": 41,
     "metadata": {},
     "output_type": "execute_result"
    }
   ],
   "source": [
    "test_gen.n"
   ]
  },
  {
   "cell_type": "code",
   "execution_count": 42,
   "metadata": {},
   "outputs": [
    {
     "name": "stdout",
     "output_type": "stream",
     "text": [
      "WARNING:tensorflow:From <ipython-input-42-fc3d2a809a54>:1: Model.predict_generator (from tensorflow.python.keras.engine.training) is deprecated and will be removed in a future version.\n",
      "Instructions for updating:\n",
      "Please use Model.predict, which supports generators.\n",
      "125/125 [==============================] - 1s 5ms/step\n"
     ]
    }
   ],
   "source": [
    "pred = best_model.predict_generator(test_gen, steps=test_gen.n//test_gen.batch_size, verbose=1)"
   ]
  },
  {
   "cell_type": "code",
   "execution_count": 43,
   "metadata": {},
   "outputs": [
    {
     "data": {
      "text/plain": [
       "array([[0.99995816],\n",
       "       [0.7687816 ],\n",
       "       [0.98841685],\n",
       "       ...,\n",
       "       [0.99746656],\n",
       "       [0.02626724],\n",
       "       [0.9999999 ]], dtype=float32)"
      ]
     },
     "execution_count": 43,
     "metadata": {},
     "output_type": "execute_result"
    }
   ],
   "source": [
    "pred"
   ]
  },
  {
   "cell_type": "code",
   "execution_count": 44,
   "metadata": {},
   "outputs": [],
   "source": [
    "tests['has_cactus'] = pred"
   ]
  },
  {
   "cell_type": "code",
   "execution_count": 45,
   "metadata": {},
   "outputs": [
    {
     "data": {
      "text/html": [
       "<div>\n",
       "<style scoped>\n",
       "    .dataframe tbody tr th:only-of-type {\n",
       "        vertical-align: middle;\n",
       "    }\n",
       "\n",
       "    .dataframe tbody tr th {\n",
       "        vertical-align: top;\n",
       "    }\n",
       "\n",
       "    .dataframe thead th {\n",
       "        text-align: right;\n",
       "    }\n",
       "</style>\n",
       "<table border=\"1\" class=\"dataframe\">\n",
       "  <thead>\n",
       "    <tr style=\"text-align: right;\">\n",
       "      <th></th>\n",
       "      <th>id</th>\n",
       "      <th>has_cactus</th>\n",
       "    </tr>\n",
       "  </thead>\n",
       "  <tbody>\n",
       "    <tr>\n",
       "      <th>0</th>\n",
       "      <td>90215d80d9af4c751646015aabf33660.jpg</td>\n",
       "      <td>0.999958</td>\n",
       "    </tr>\n",
       "    <tr>\n",
       "      <th>1</th>\n",
       "      <td>5ffc4f64d6f73f85c484596de8f68e1d.jpg</td>\n",
       "      <td>0.768782</td>\n",
       "    </tr>\n",
       "    <tr>\n",
       "      <th>2</th>\n",
       "      <td>c3d1d83d50483e6e97b7290fa2db51ac.jpg</td>\n",
       "      <td>0.988417</td>\n",
       "    </tr>\n",
       "    <tr>\n",
       "      <th>3</th>\n",
       "      <td>bee03b86bb300e81a3b4480d1a35e801.jpg</td>\n",
       "      <td>0.998545</td>\n",
       "    </tr>\n",
       "    <tr>\n",
       "      <th>4</th>\n",
       "      <td>8f7c18b70b979a25e7f09e108188202c.jpg</td>\n",
       "      <td>1.000000</td>\n",
       "    </tr>\n",
       "    <tr>\n",
       "      <th>...</th>\n",
       "      <td>...</td>\n",
       "      <td>...</td>\n",
       "    </tr>\n",
       "    <tr>\n",
       "      <th>3995</th>\n",
       "      <td>6054b22afc730171f4c7eaddaefa18ae.jpg</td>\n",
       "      <td>1.000000</td>\n",
       "    </tr>\n",
       "    <tr>\n",
       "      <th>3996</th>\n",
       "      <td>5b0ddc8fd679ecbec4f9c7461dae6ffe.jpg</td>\n",
       "      <td>1.000000</td>\n",
       "    </tr>\n",
       "    <tr>\n",
       "      <th>3997</th>\n",
       "      <td>05738a763b54b164019a62be99739702.jpg</td>\n",
       "      <td>0.997467</td>\n",
       "    </tr>\n",
       "    <tr>\n",
       "      <th>3998</th>\n",
       "      <td>132e8c9df799f34740bfc2f8845a3910.jpg</td>\n",
       "      <td>0.026267</td>\n",
       "    </tr>\n",
       "    <tr>\n",
       "      <th>3999</th>\n",
       "      <td>62117eb657ecb6db1325efadda92210d.jpg</td>\n",
       "      <td>1.000000</td>\n",
       "    </tr>\n",
       "  </tbody>\n",
       "</table>\n",
       "<p>4000 rows × 2 columns</p>\n",
       "</div>"
      ],
      "text/plain": [
       "                                        id  has_cactus\n",
       "0     90215d80d9af4c751646015aabf33660.jpg    0.999958\n",
       "1     5ffc4f64d6f73f85c484596de8f68e1d.jpg    0.768782\n",
       "2     c3d1d83d50483e6e97b7290fa2db51ac.jpg    0.988417\n",
       "3     bee03b86bb300e81a3b4480d1a35e801.jpg    0.998545\n",
       "4     8f7c18b70b979a25e7f09e108188202c.jpg    1.000000\n",
       "...                                    ...         ...\n",
       "3995  6054b22afc730171f4c7eaddaefa18ae.jpg    1.000000\n",
       "3996  5b0ddc8fd679ecbec4f9c7461dae6ffe.jpg    1.000000\n",
       "3997  05738a763b54b164019a62be99739702.jpg    0.997467\n",
       "3998  132e8c9df799f34740bfc2f8845a3910.jpg    0.026267\n",
       "3999  62117eb657ecb6db1325efadda92210d.jpg    1.000000\n",
       "\n",
       "[4000 rows x 2 columns]"
      ]
     },
     "execution_count": 45,
     "metadata": {},
     "output_type": "execute_result"
    }
   ],
   "source": [
    "tests"
   ]
  },
  {
   "cell_type": "code",
   "execution_count": 46,
   "metadata": {},
   "outputs": [],
   "source": [
    "tests.to_csv('tests.csv', index=False)"
   ]
  },
  {
   "cell_type": "code",
   "execution_count": null,
   "metadata": {},
   "outputs": [],
   "source": []
  }
 ],
 "metadata": {
  "kernelspec": {
   "display_name": "aiffel",
   "language": "python",
   "name": "aiffel"
  },
  "language_info": {
   "codemirror_mode": {
    "name": "ipython",
    "version": 3
   },
   "file_extension": ".py",
   "mimetype": "text/x-python",
   "name": "python",
   "nbconvert_exporter": "python",
   "pygments_lexer": "ipython3",
   "version": "3.7.6"
  },
  "toc": {
   "base_numbering": 1,
   "nav_menu": {},
   "number_sections": true,
   "sideBar": true,
   "skip_h1_title": true,
   "title_cell": "Table of Contents",
   "title_sidebar": "Contents",
   "toc_cell": false,
   "toc_position": {},
   "toc_section_display": true,
   "toc_window_display": false
  }
 },
 "nbformat": 4,
 "nbformat_minor": 4
}
